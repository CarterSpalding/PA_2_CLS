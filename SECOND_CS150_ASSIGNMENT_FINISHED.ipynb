{
 "cells": [
  {
   "cell_type": "markdown",
   "id": "bbbb8093",
   "metadata": {},
   "source": [
    "One can append a list to add another element to the end of said list. This can be helpful when creating a list of attendance to a party."
   ]
  },
  {
   "cell_type": "code",
   "execution_count": 4,
   "id": "321e9635",
   "metadata": {},
   "outputs": [
    {
     "name": "stdout",
     "output_type": "stream",
     "text": [
      "['Ben', ' Braden', 'Sam', 'Andrew', 'Caroline', 'Ethan']\n",
      "['Ben', ' Braden', 'Sam', 'Andrew', 'Caroline', 'Ethan', 'Brielle']\n"
     ]
    }
   ],
   "source": [
    "attendance=[\"Ben\",\" Braden\",\"Sam\", \"Andrew\", \"Caroline\", \"Ethan\"]\n",
    "print(attendance)\n",
    "attendance.append(\"Brielle\")\n",
    "print(attendance)"
   ]
  },
  {
   "cell_type": "markdown",
   "id": "34c13474",
   "metadata": {},
   "source": [
    "Extending a list can be used to comine two lists together.  This could be useful if you have two families you want to invite to one party.  "
   ]
  },
  {
   "cell_type": "code",
   "execution_count": 3,
   "id": "0bad0097",
   "metadata": {},
   "outputs": [
    {
     "data": {
      "text/plain": [
       "['Susan', 'Stuart', 'Ella', 'Gracie', 'Mike', 'Dawn', 'Brielle']"
      ]
     },
     "execution_count": 3,
     "metadata": {},
     "output_type": "execute_result"
    }
   ],
   "source": [
    "Spaldings=[\"Susan\", \"Stuart\", \"Ella\", \"Gracie\"]\n",
    "Heuglins=[\"Mike\", \"Dawn\", \"Brielle\"]\n",
    "Spaldings.extend(Heuglins)\n",
    "Spaldings"
   ]
  },
  {
   "cell_type": "markdown",
   "id": "0497c799",
   "metadata": {},
   "source": [
    "If you had a list of appointment times in chronological order and one needed to add a time to a specific spot, inserting an elelment into a specific spot can be helpful."
   ]
  },
  {
   "cell_type": "code",
   "execution_count": 3,
   "id": "960176ed",
   "metadata": {},
   "outputs": [
    {
     "name": "stdout",
     "output_type": "stream",
     "text": [
      "[10, 11, 12, 1, 3]\n",
      "[10, 11, 12, 1, 2, 3]\n"
     ]
    }
   ],
   "source": [
    "appointments=[10, 11, 12, 1, 3]\n",
    "print(appointments)\n",
    "appointments.insert(4, 2)\n",
    "print(appointments)"
   ]
  },
  {
   "cell_type": "markdown",
   "id": "9a1b133e",
   "metadata": {},
   "source": [
    "One can remove from a list to delete an element from said list. This can be helpful when creating an attendance list to a party but someone calls and says they can no longer come."
   ]
  },
  {
   "cell_type": "code",
   "execution_count": 5,
   "id": "077379ca",
   "metadata": {},
   "outputs": [
    {
     "name": "stdout",
     "output_type": "stream",
     "text": [
      "['Ben', ' Braden', 'Sam', 'Andrew', 'Caroline', 'Ethan']\n",
      "['Ben', ' Braden', 'Andrew', 'Caroline', 'Ethan']\n"
     ]
    }
   ],
   "source": [
    "attendance=[\"Ben\",\" Braden\",\"Sam\", \"Andrew\", \"Caroline\", \"Ethan\"]\n",
    "print(attendance)\n",
    "attendance.remove(\"Sam\")\n",
    "print(attendance)"
   ]
  },
  {
   "cell_type": "markdown",
   "id": "ead898a6",
   "metadata": {},
   "source": [
    "The count function can be used to see how many times a specific element appears in a list.  This can be useful when trying to track how many times a certain even happens. "
   ]
  },
  {
   "cell_type": "code",
   "execution_count": 4,
   "id": "bab1411d",
   "metadata": {},
   "outputs": [
    {
     "data": {
      "text/plain": [
       "5"
      ]
     },
     "execution_count": 4,
     "metadata": {},
     "output_type": "execute_result"
    }
   ],
   "source": [
    "Lightning_Strikes_in_Storm=[1,3,2,3,4,6,2,3,4,5,7,9,3,5,3,2,6]\n",
    "Lightning_Strikes_in_Storm.count(3)"
   ]
  },
  {
   "cell_type": "markdown",
   "id": "b3e5d648",
   "metadata": {},
   "source": [
    "Finding the index of an elelment in a list can be very useful if you're having a party but can only have a certain amount of people come.  You can find out who was the last to RSVP based off of your list and figure out who RSVP'd first. "
   ]
  },
  {
   "cell_type": "code",
   "execution_count": 8,
   "id": "0a5f79b4",
   "metadata": {},
   "outputs": [
    {
     "data": {
      "text/plain": [
       "5"
      ]
     },
     "execution_count": 8,
     "metadata": {},
     "output_type": "execute_result"
    }
   ],
   "source": [
    "attendance=[\"Ben\",\" Braden\",\"Sam\", \"Andrew\", \"Caroline\", \"Ethan\"]\n",
    "attendance.index(\"Ethan\")"
   ]
  },
  {
   "cell_type": "markdown",
   "id": "b0dfd3d7",
   "metadata": {},
   "source": [
    "Once youve figured out who RSVP'd last and you decide to not have them come to the party anymore, you can remove the last element from a list using the pop function."
   ]
  },
  {
   "cell_type": "code",
   "execution_count": 9,
   "id": "609e0d1d",
   "metadata": {},
   "outputs": [
    {
     "name": "stdout",
     "output_type": "stream",
     "text": [
      "['Ben', ' Braden', 'Sam', 'Andrew', 'Caroline']\n"
     ]
    }
   ],
   "source": [
    "attendance=[\"Ben\",\" Braden\",\"Sam\", \"Andrew\", \"Caroline\", \"Ethan\"]\n",
    "attendance.pop()\n",
    "print(attendance)"
   ]
  },
  {
   "cell_type": "markdown",
   "id": "d721a754",
   "metadata": {},
   "source": [
    "If you are making thank-you cards for the same party and you need to temporarily organize the list in alphabetical order, you can you the sorted functin to temporarilt organize a list.  "
   ]
  },
  {
   "cell_type": "code",
   "execution_count": 8,
   "id": "f2a349a7",
   "metadata": {},
   "outputs": [
    {
     "data": {
      "text/plain": [
       "['Andrew', 'Ben', 'Braden', 'Caroline', 'Ethan', 'Sam']"
      ]
     },
     "execution_count": 8,
     "metadata": {},
     "output_type": "execute_result"
    }
   ],
   "source": [
    "attendance=[\"Ben\",\"Braden\",\"Sam\", \"Andrew\", \"Caroline\", \"Ethan\"]\n",
    "sorted(attendance)"
   ]
  },
  {
   "cell_type": "markdown",
   "id": "02ecd548",
   "metadata": {},
   "source": [
    "The copy function makes an exact copy of the elements of a list.  This can be useful if you are having a party and want to copy the same list of people to attend the second party as well"
   ]
  },
  {
   "cell_type": "code",
   "execution_count": 12,
   "id": "91e79429",
   "metadata": {},
   "outputs": [
    {
     "data": {
      "text/plain": [
       "[['Ben', 'Braden', 'Sam', 'Andrew', 'Caroline', 'Ethan'],\n",
       " 'Susan',\n",
       " 'Stuart',\n",
       " 'Ella',\n",
       " 'Gracie']"
      ]
     },
     "execution_count": 12,
     "metadata": {},
     "output_type": "execute_result"
    }
   ],
   "source": [
    "attendance2=[attendance.copy(), \"Susan\", \"Stuart\", \"Ella\", \"Gracie\"]\n",
    "attendance2"
   ]
  },
  {
   "cell_type": "markdown",
   "id": "60e346ac",
   "metadata": {},
   "source": [
    "The clear function removes all elelments from a list.  This can be useful for emptying an entire list to redo it."
   ]
  },
  {
   "cell_type": "code",
   "execution_count": 6,
   "id": "3e7fa28d",
   "metadata": {},
   "outputs": [
    {
     "data": {
      "text/plain": [
       "[]"
      ]
     },
     "execution_count": 6,
     "metadata": {},
     "output_type": "execute_result"
    }
   ],
   "source": [
    "Cars=[\"BMW\", \"Ford\", \"Toyota\"]\n",
    "Cars.clear()\n",
    "Cars"
   ]
  },
  {
   "cell_type": "markdown",
   "id": "615ab335",
   "metadata": {},
   "source": [
    "If you have data stored in a variable and you want to sort it into a list so it is easier to handle, you can use the list function to do so.  Say you are making a code to encrypt messages and you need to sort the alphabet into a list"
   ]
  },
  {
   "cell_type": "code",
   "execution_count": 13,
   "id": "276128e2",
   "metadata": {},
   "outputs": [
    {
     "name": "stdout",
     "output_type": "stream",
     "text": [
      "['a', 'b', 'c', 'd', 'e', 'f', 'g', 'h', 'i', 'j', 'k', 'l', 'm', 'n', 'o', 'p', 'q', 'r', 's', 't', 'u', 'v', 'w', 'x', 'y', 'z']\n"
     ]
    }
   ],
   "source": [
    "alphabet=\"abcdefghijklmnopqrstuvwxyz\"\n",
    "alphabet_list=list(alphabet)\n",
    "print(alphabet_list)"
   ]
  },
  {
   "cell_type": "markdown",
   "id": "a3cf93f4",
   "metadata": {},
   "source": [
    "If you have a definite list of people from a party that you definitely want to invite and you want to know how many people that is, you can make a tuple then find the length using len"
   ]
  },
  {
   "cell_type": "code",
   "execution_count": 13,
   "id": "12778e60",
   "metadata": {},
   "outputs": [
    {
     "data": {
      "text/plain": [
       "6"
      ]
     },
     "execution_count": 13,
     "metadata": {},
     "output_type": "execute_result"
    }
   ],
   "source": [
    "attendance=(\"Ben\",\"Braden\",\"Sam\", \"Andrew\", \"Caroline\", \"Ethan\")\n",
    "len(attendance)"
   ]
  },
  {
   "cell_type": "markdown",
   "id": "2199ca1f",
   "metadata": {},
   "source": [
    "If you have a list of elemnets and want to find the highest value of the tuple, you can use the max function to do so.  Recall the lightning strikes example but for this we are changing it to a tuple."
   ]
  },
  {
   "cell_type": "code",
   "execution_count": 14,
   "id": "11cf96f0",
   "metadata": {},
   "outputs": [
    {
     "data": {
      "text/plain": [
       "9"
      ]
     },
     "execution_count": 14,
     "metadata": {},
     "output_type": "execute_result"
    }
   ],
   "source": [
    "Lightning_Strikes_in_Storm=(1,3,2,3,4,6,2,3,4,5,7,9,3,5,3,2,6)\n",
    "max(Lightning_Strikes_in_Storm)"
   ]
  },
  {
   "cell_type": "markdown",
   "id": "4c81e97c",
   "metadata": {},
   "source": [
    "If you have a list of elemnets and want to find the lowest value of the tuple, you can use the min function to do so.  Recall the lightning strikes example but for this we are changing it to a tuple."
   ]
  },
  {
   "cell_type": "code",
   "execution_count": 16,
   "id": "79a16ce3",
   "metadata": {},
   "outputs": [
    {
     "data": {
      "text/plain": [
       "1"
      ]
     },
     "execution_count": 16,
     "metadata": {},
     "output_type": "execute_result"
    }
   ],
   "source": [
    "Lightning_Strikes_in_Storm=(1,3,2,3,4,6,2,3,4,5,7,9,3,5,3,2,6)\n",
    "min(Lightning_Strikes_in_Storm)"
   ]
  },
  {
   "cell_type": "markdown",
   "id": "09ff2160",
   "metadata": {},
   "source": [
    "# PA 2"
   ]
  },
  {
   "cell_type": "markdown",
   "id": "43eb0726",
   "metadata": {},
   "source": [
    "## Carter Spalding "
   ]
  },
  {
   "cell_type": "markdown",
   "id": "f47e9322",
   "metadata": {},
   "source": [
    "### Version 1"
   ]
  },
  {
   "cell_type": "markdown",
   "id": "59cb7bd1",
   "metadata": {},
   "source": [
    "#### CS150 Fall Semester 2022"
   ]
  },
  {
   "cell_type": "code",
   "execution_count": 22,
   "id": "a055b481",
   "metadata": {},
   "outputs": [
    {
     "name": "stdout",
     "output_type": "stream",
     "text": [
      "2003 Carter 19\n",
      "('Carter', 19, 2003)\n"
     ]
    }
   ],
   "source": [
    "rotate=(\"Carter\", 19,2003)\n",
    "a, b, c=rotate\n",
    "print(c,a,b)\n",
    "print(rotate)"
   ]
  },
  {
   "cell_type": "code",
   "execution_count": null,
   "id": "8533e24a",
   "metadata": {},
   "outputs": [],
   "source": []
  }
 ],
 "metadata": {
  "kernelspec": {
   "display_name": "Python 3 (ipykernel)",
   "language": "python",
   "name": "python3"
  },
  "language_info": {
   "codemirror_mode": {
    "name": "ipython",
    "version": 3
   },
   "file_extension": ".py",
   "mimetype": "text/x-python",
   "name": "python",
   "nbconvert_exporter": "python",
   "pygments_lexer": "ipython3",
   "version": "3.9.12"
  }
 },
 "nbformat": 4,
 "nbformat_minor": 5
}
